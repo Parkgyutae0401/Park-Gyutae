{
  "nbformat": 4,
  "nbformat_minor": 0,
  "metadata": {
    "colab": {
      "provenance": [],
      "authorship_tag": "ABX9TyPCdwVcYhO6vTCkGrRP/fE7",
      "include_colab_link": true
    },
    "kernelspec": {
      "name": "python3",
      "display_name": "Python 3"
    },
    "language_info": {
      "name": "python"
    }
  },
  "cells": [
    {
      "cell_type": "markdown",
      "metadata": {
        "id": "view-in-github",
        "colab_type": "text"
      },
      "source": [
        "<a href=\"https://colab.research.google.com/github/Parkgyutae0401/Park-Gyutae/blob/main/%EC%A3%BC%EC%8B%9D%EC%98%88%EC%B8%A1_%ED%95%A8%EC%88%98.ipynb\" target=\"_parent\"><img src=\"https://colab.research.google.com/assets/colab-badge.svg\" alt=\"Open In Colab\"/></a>"
      ]
    },
    {
      "cell_type": "code",
      "source": [
        "pip install -U finance-datareader"
      ],
      "metadata": {
        "colab": {
          "base_uri": "https://localhost:8080/"
        },
        "id": "m7DOVM2vtJKD",
        "outputId": "29ed76d2-3f71-468e-aef1-b89db8475002"
      },
      "execution_count": 3,
      "outputs": [
        {
          "output_type": "stream",
          "name": "stdout",
          "text": [
            "Looking in indexes: https://pypi.org/simple, https://us-python.pkg.dev/colab-wheels/public/simple/\n",
            "Collecting finance-datareader\n",
            "  Downloading finance_datareader-0.9.50-py3-none-any.whl (19 kB)\n",
            "Requirement already satisfied: requests>=2.3.0 in /usr/local/lib/python3.9/dist-packages (from finance-datareader) (2.27.1)\n",
            "Requirement already satisfied: lxml in /usr/local/lib/python3.9/dist-packages (from finance-datareader) (4.9.2)\n",
            "Requirement already satisfied: pandas>=0.19.2 in /usr/local/lib/python3.9/dist-packages (from finance-datareader) (1.4.4)\n",
            "Collecting requests-file\n",
            "  Downloading requests_file-1.5.1-py2.py3-none-any.whl (3.7 kB)\n",
            "Requirement already satisfied: tqdm in /usr/local/lib/python3.9/dist-packages (from finance-datareader) (4.65.0)\n",
            "Requirement already satisfied: python-dateutil>=2.8.1 in /usr/local/lib/python3.9/dist-packages (from pandas>=0.19.2->finance-datareader) (2.8.2)\n",
            "Requirement already satisfied: pytz>=2020.1 in /usr/local/lib/python3.9/dist-packages (from pandas>=0.19.2->finance-datareader) (2022.7.1)\n",
            "Requirement already satisfied: numpy>=1.18.5 in /usr/local/lib/python3.9/dist-packages (from pandas>=0.19.2->finance-datareader) (1.22.4)\n",
            "Requirement already satisfied: charset-normalizer~=2.0.0 in /usr/local/lib/python3.9/dist-packages (from requests>=2.3.0->finance-datareader) (2.0.12)\n",
            "Requirement already satisfied: idna<4,>=2.5 in /usr/local/lib/python3.9/dist-packages (from requests>=2.3.0->finance-datareader) (3.4)\n",
            "Requirement already satisfied: urllib3<1.27,>=1.21.1 in /usr/local/lib/python3.9/dist-packages (from requests>=2.3.0->finance-datareader) (1.26.15)\n",
            "Requirement already satisfied: certifi>=2017.4.17 in /usr/local/lib/python3.9/dist-packages (from requests>=2.3.0->finance-datareader) (2022.12.7)\n",
            "Requirement already satisfied: six in /usr/local/lib/python3.9/dist-packages (from requests-file->finance-datareader) (1.16.0)\n",
            "Installing collected packages: requests-file, finance-datareader\n",
            "Successfully installed finance-datareader-0.9.50 requests-file-1.5.1\n"
          ]
        }
      ]
    },
    {
      "cell_type": "code",
      "source": [
        "import warnings\n",
        "import FinanceDataReader as fdr\n",
        "import matplotlib.pyplot as plt\n",
        "from matplotlib.figure import Figure\n",
        "import pandas as pd\n",
        "import numpy as np\n",
        "\n",
        "warnings.filterwarnings('ignore')"
      ],
      "metadata": {
        "id": "XOzQtViHtNz_"
      },
      "execution_count": 4,
      "outputs": []
    },
    {
      "cell_type": "code",
      "source": [
        "# finance datareader로 부터 데이터 불러오기\n",
        "data = fdr.DataReader('KS11')\n",
        "data"
      ],
      "metadata": {
        "colab": {
          "base_uri": "https://localhost:8080/",
          "height": 455
        },
        "id": "17qK3DjstTmw",
        "outputId": "673b5dad-e332-4089-9469-73f5a157529c"
      },
      "execution_count": 5,
      "outputs": [
        {
          "output_type": "execute_result",
          "data": {
            "text/plain": [
              "                   Open         High          Low        Close    Adj Close  \\\n",
              "Date                                                                          \n",
              "1996-12-11   705.989990   709.479980   704.429993   704.679993   704.679993   \n",
              "1996-12-12   705.109985   706.010010   688.739990   689.380005   689.380005   \n",
              "1996-12-13   690.440002   695.719971   677.640015   689.070007   689.070007   \n",
              "1996-12-16   686.969971   686.969971   667.710022   673.919983   673.919983   \n",
              "1996-12-17   675.349976   680.090027   660.390015   663.349976   663.349976   \n",
              "...                 ...          ...          ...          ...          ...   \n",
              "2023-03-29  2432.629883  2443.949951  2428.610107  2443.919922  2443.919922   \n",
              "2023-03-30  2452.969971  2462.699951  2439.429932  2453.159912  2453.159912   \n",
              "2023-03-31  2459.939941  2481.239990  2456.540039  2476.860107  2476.860107   \n",
              "2023-04-03  2485.810059  2485.810059  2467.590088  2472.340088  2472.340088   \n",
              "2023-04-04  2475.870117  2489.709961  2472.790039  2480.510010  2480.510010   \n",
              "\n",
              "              Volume  \n",
              "Date                  \n",
              "1996-12-11   28000.0  \n",
              "1996-12-12   25900.0  \n",
              "1996-12-13   26500.0  \n",
              "1996-12-16   22800.0  \n",
              "1996-12-17   31600.0  \n",
              "...              ...  \n",
              "2023-03-29  496600.0  \n",
              "2023-03-30  621300.0  \n",
              "2023-03-31  721300.0  \n",
              "2023-04-03  807400.0  \n",
              "2023-04-04  832555.0  \n",
              "\n",
              "[6635 rows x 6 columns]"
            ],
            "text/html": [
              "\n",
              "  <div id=\"df-bfd8e5ee-e5d9-4e45-b3a0-4fba66bfe962\">\n",
              "    <div class=\"colab-df-container\">\n",
              "      <div>\n",
              "<style scoped>\n",
              "    .dataframe tbody tr th:only-of-type {\n",
              "        vertical-align: middle;\n",
              "    }\n",
              "\n",
              "    .dataframe tbody tr th {\n",
              "        vertical-align: top;\n",
              "    }\n",
              "\n",
              "    .dataframe thead th {\n",
              "        text-align: right;\n",
              "    }\n",
              "</style>\n",
              "<table border=\"1\" class=\"dataframe\">\n",
              "  <thead>\n",
              "    <tr style=\"text-align: right;\">\n",
              "      <th></th>\n",
              "      <th>Open</th>\n",
              "      <th>High</th>\n",
              "      <th>Low</th>\n",
              "      <th>Close</th>\n",
              "      <th>Adj Close</th>\n",
              "      <th>Volume</th>\n",
              "    </tr>\n",
              "    <tr>\n",
              "      <th>Date</th>\n",
              "      <th></th>\n",
              "      <th></th>\n",
              "      <th></th>\n",
              "      <th></th>\n",
              "      <th></th>\n",
              "      <th></th>\n",
              "    </tr>\n",
              "  </thead>\n",
              "  <tbody>\n",
              "    <tr>\n",
              "      <th>1996-12-11</th>\n",
              "      <td>705.989990</td>\n",
              "      <td>709.479980</td>\n",
              "      <td>704.429993</td>\n",
              "      <td>704.679993</td>\n",
              "      <td>704.679993</td>\n",
              "      <td>28000.0</td>\n",
              "    </tr>\n",
              "    <tr>\n",
              "      <th>1996-12-12</th>\n",
              "      <td>705.109985</td>\n",
              "      <td>706.010010</td>\n",
              "      <td>688.739990</td>\n",
              "      <td>689.380005</td>\n",
              "      <td>689.380005</td>\n",
              "      <td>25900.0</td>\n",
              "    </tr>\n",
              "    <tr>\n",
              "      <th>1996-12-13</th>\n",
              "      <td>690.440002</td>\n",
              "      <td>695.719971</td>\n",
              "      <td>677.640015</td>\n",
              "      <td>689.070007</td>\n",
              "      <td>689.070007</td>\n",
              "      <td>26500.0</td>\n",
              "    </tr>\n",
              "    <tr>\n",
              "      <th>1996-12-16</th>\n",
              "      <td>686.969971</td>\n",
              "      <td>686.969971</td>\n",
              "      <td>667.710022</td>\n",
              "      <td>673.919983</td>\n",
              "      <td>673.919983</td>\n",
              "      <td>22800.0</td>\n",
              "    </tr>\n",
              "    <tr>\n",
              "      <th>1996-12-17</th>\n",
              "      <td>675.349976</td>\n",
              "      <td>680.090027</td>\n",
              "      <td>660.390015</td>\n",
              "      <td>663.349976</td>\n",
              "      <td>663.349976</td>\n",
              "      <td>31600.0</td>\n",
              "    </tr>\n",
              "    <tr>\n",
              "      <th>...</th>\n",
              "      <td>...</td>\n",
              "      <td>...</td>\n",
              "      <td>...</td>\n",
              "      <td>...</td>\n",
              "      <td>...</td>\n",
              "      <td>...</td>\n",
              "    </tr>\n",
              "    <tr>\n",
              "      <th>2023-03-29</th>\n",
              "      <td>2432.629883</td>\n",
              "      <td>2443.949951</td>\n",
              "      <td>2428.610107</td>\n",
              "      <td>2443.919922</td>\n",
              "      <td>2443.919922</td>\n",
              "      <td>496600.0</td>\n",
              "    </tr>\n",
              "    <tr>\n",
              "      <th>2023-03-30</th>\n",
              "      <td>2452.969971</td>\n",
              "      <td>2462.699951</td>\n",
              "      <td>2439.429932</td>\n",
              "      <td>2453.159912</td>\n",
              "      <td>2453.159912</td>\n",
              "      <td>621300.0</td>\n",
              "    </tr>\n",
              "    <tr>\n",
              "      <th>2023-03-31</th>\n",
              "      <td>2459.939941</td>\n",
              "      <td>2481.239990</td>\n",
              "      <td>2456.540039</td>\n",
              "      <td>2476.860107</td>\n",
              "      <td>2476.860107</td>\n",
              "      <td>721300.0</td>\n",
              "    </tr>\n",
              "    <tr>\n",
              "      <th>2023-04-03</th>\n",
              "      <td>2485.810059</td>\n",
              "      <td>2485.810059</td>\n",
              "      <td>2467.590088</td>\n",
              "      <td>2472.340088</td>\n",
              "      <td>2472.340088</td>\n",
              "      <td>807400.0</td>\n",
              "    </tr>\n",
              "    <tr>\n",
              "      <th>2023-04-04</th>\n",
              "      <td>2475.870117</td>\n",
              "      <td>2489.709961</td>\n",
              "      <td>2472.790039</td>\n",
              "      <td>2480.510010</td>\n",
              "      <td>2480.510010</td>\n",
              "      <td>832555.0</td>\n",
              "    </tr>\n",
              "  </tbody>\n",
              "</table>\n",
              "<p>6635 rows × 6 columns</p>\n",
              "</div>\n",
              "      <button class=\"colab-df-convert\" onclick=\"convertToInteractive('df-bfd8e5ee-e5d9-4e45-b3a0-4fba66bfe962')\"\n",
              "              title=\"Convert this dataframe to an interactive table.\"\n",
              "              style=\"display:none;\">\n",
              "        \n",
              "  <svg xmlns=\"http://www.w3.org/2000/svg\" height=\"24px\"viewBox=\"0 0 24 24\"\n",
              "       width=\"24px\">\n",
              "    <path d=\"M0 0h24v24H0V0z\" fill=\"none\"/>\n",
              "    <path d=\"M18.56 5.44l.94 2.06.94-2.06 2.06-.94-2.06-.94-.94-2.06-.94 2.06-2.06.94zm-11 1L8.5 8.5l.94-2.06 2.06-.94-2.06-.94L8.5 2.5l-.94 2.06-2.06.94zm10 10l.94 2.06.94-2.06 2.06-.94-2.06-.94-.94-2.06-.94 2.06-2.06.94z\"/><path d=\"M17.41 7.96l-1.37-1.37c-.4-.4-.92-.59-1.43-.59-.52 0-1.04.2-1.43.59L10.3 9.45l-7.72 7.72c-.78.78-.78 2.05 0 2.83L4 21.41c.39.39.9.59 1.41.59.51 0 1.02-.2 1.41-.59l7.78-7.78 2.81-2.81c.8-.78.8-2.07 0-2.86zM5.41 20L4 18.59l7.72-7.72 1.47 1.35L5.41 20z\"/>\n",
              "  </svg>\n",
              "      </button>\n",
              "      \n",
              "  <style>\n",
              "    .colab-df-container {\n",
              "      display:flex;\n",
              "      flex-wrap:wrap;\n",
              "      gap: 12px;\n",
              "    }\n",
              "\n",
              "    .colab-df-convert {\n",
              "      background-color: #E8F0FE;\n",
              "      border: none;\n",
              "      border-radius: 50%;\n",
              "      cursor: pointer;\n",
              "      display: none;\n",
              "      fill: #1967D2;\n",
              "      height: 32px;\n",
              "      padding: 0 0 0 0;\n",
              "      width: 32px;\n",
              "    }\n",
              "\n",
              "    .colab-df-convert:hover {\n",
              "      background-color: #E2EBFA;\n",
              "      box-shadow: 0px 1px 2px rgba(60, 64, 67, 0.3), 0px 1px 3px 1px rgba(60, 64, 67, 0.15);\n",
              "      fill: #174EA6;\n",
              "    }\n",
              "\n",
              "    [theme=dark] .colab-df-convert {\n",
              "      background-color: #3B4455;\n",
              "      fill: #D2E3FC;\n",
              "    }\n",
              "\n",
              "    [theme=dark] .colab-df-convert:hover {\n",
              "      background-color: #434B5C;\n",
              "      box-shadow: 0px 1px 3px 1px rgba(0, 0, 0, 0.15);\n",
              "      filter: drop-shadow(0px 1px 2px rgba(0, 0, 0, 0.3));\n",
              "      fill: #FFFFFF;\n",
              "    }\n",
              "  </style>\n",
              "\n",
              "      <script>\n",
              "        const buttonEl =\n",
              "          document.querySelector('#df-bfd8e5ee-e5d9-4e45-b3a0-4fba66bfe962 button.colab-df-convert');\n",
              "        buttonEl.style.display =\n",
              "          google.colab.kernel.accessAllowed ? 'block' : 'none';\n",
              "\n",
              "        async function convertToInteractive(key) {\n",
              "          const element = document.querySelector('#df-bfd8e5ee-e5d9-4e45-b3a0-4fba66bfe962');\n",
              "          const dataTable =\n",
              "            await google.colab.kernel.invokeFunction('convertToInteractive',\n",
              "                                                     [key], {});\n",
              "          if (!dataTable) return;\n",
              "\n",
              "          const docLinkHtml = 'Like what you see? Visit the ' +\n",
              "            '<a target=\"_blank\" href=https://colab.research.google.com/notebooks/data_table.ipynb>data table notebook</a>'\n",
              "            + ' to learn more about interactive tables.';\n",
              "          element.innerHTML = '';\n",
              "          dataTable['output_type'] = 'display_data';\n",
              "          await google.colab.output.renderOutput(dataTable, element);\n",
              "          const docLink = document.createElement('div');\n",
              "          docLink.innerHTML = docLinkHtml;\n",
              "          element.appendChild(docLink);\n",
              "        }\n",
              "      </script>\n",
              "    </div>\n",
              "  </div>\n",
              "  "
            ]
          },
          "metadata": {},
          "execution_count": 5
        }
      ]
    },
    {
      "cell_type": "code",
      "source": [
        "#종가만 추출\n",
        "close = data['Close']\n",
        "\n",
        "#비교 기준 구간\n",
        "start_date = '2021-09-01'\n",
        "end_date = '2021-09-16'"
      ],
      "metadata": {
        "id": "-Jp2oIvLtmkA"
      },
      "execution_count": 6,
      "outputs": []
    },
    {
      "cell_type": "code",
      "source": [
        "#기준 구간 시계열 차트\n",
        "close[start_date:end_date].plot();"
      ],
      "metadata": {
        "colab": {
          "base_uri": "https://localhost:8080/",
          "height": 482
        },
        "id": "rSaKRpf4t5ta",
        "outputId": "fd55b60f-a701-4b51-b856-a5776bc91e69"
      },
      "execution_count": 12,
      "outputs": [
        {
          "output_type": "display_data",
          "data": {
            "text/plain": [
              "<Figure size 640x480 with 1 Axes>"
            ],
            "image/png": "[encoded data removed]"
          },
          "metadata": {}
        }
      ]
    },
    {
      "cell_type": "code",
      "source": [],
      "metadata": {
        "id": "Sx6p9Iob2CFt"
      },
      "execution_count": null,
      "outputs": []
    },
    {
      "cell_type": "code",
      "source": [
        "base = close[start_date:end_date]\n",
        "base"
      ],
      "metadata": {
        "colab": {
          "base_uri": "https://localhost:8080/"
        },
        "id": "cYdFX36p1yFn",
        "outputId": "fe607a98-1fd8-4976-8b4b-8dff940f5b31"
      },
      "execution_count": 10,
      "outputs": [
        {
          "output_type": "execute_result",
          "data": {
            "text/plain": [
              "Date\n",
              "2021-09-01    3207.020020\n",
              "2021-09-02    3175.850098\n",
              "2021-09-03    3201.060059\n",
              "2021-09-06    3203.330078\n",
              "2021-09-07    3187.419922\n",
              "2021-09-08    3162.989990\n",
              "2021-09-09    3114.699951\n",
              "2021-09-10    3125.760010\n",
              "2021-09-13    3127.860107\n",
              "2021-09-14    3148.830078\n",
              "2021-09-15    3153.399902\n",
              "2021-09-16    3130.090088\n",
              "Name: Close, dtype: float64"
            ]
          },
          "metadata": {},
          "execution_count": 10
        }
      ]
    },
    {
      "cell_type": "code",
      "source": [
        "base_norm = (base - base.min()) / (base.max()-base.min())\n",
        "base_norm"
      ],
      "metadata": {
        "colab": {
          "base_uri": "https://localhost:8080/"
        },
        "id": "d3bfH8nn2I01",
        "outputId": "808ef7bc-314d-4713-dea3-eb4406da1d5a"
      },
      "execution_count": 14,
      "outputs": [
        {
          "output_type": "execute_result",
          "data": {
            "text/plain": [
              "Date\n",
              "2021-09-01    1.000000\n",
              "2021-09-02    0.662371\n",
              "2021-09-03    0.935442\n",
              "2021-09-06    0.960031\n",
              "2021-09-07    0.787694\n",
              "2021-09-08    0.523072\n",
              "2021-09-09    0.000000\n",
              "2021-09-10    0.119801\n",
              "2021-09-13    0.142549\n",
              "2021-09-14    0.369693\n",
              "2021-09-15    0.419193\n",
              "2021-09-16    0.166704\n",
              "Name: Close, dtype: float64"
            ]
          },
          "metadata": {},
          "execution_count": 14
        }
      ]
    },
    {
      "cell_type": "code",
      "source": [
        "#윈도우 사이즈\n",
        "window_size = len(base)\n",
        "\n",
        "#예측 기간\n",
        "next_date = 5\n",
        "\n",
        "#검색횟수\n",
        "moving_cnt = len(close) - window_size - next_date - 1"
      ],
      "metadata": {
        "id": "aTWpdjTp2aIV"
      },
      "execution_count": 15,
      "outputs": []
    },
    {
      "cell_type": "code",
      "source": [
        "def cosine_similarity(x,y):\n",
        "  return np.dot(x,y) / (np,sqrt(np.dot(x,x)*np.sqrt(np.dot(x,y))))"
      ],
      "metadata": {
        "id": "_1r7AeIt2-SF"
      },
      "execution_count": 16,
      "outputs": []
    }
  ]
}